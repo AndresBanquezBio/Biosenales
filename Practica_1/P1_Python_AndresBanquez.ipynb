{
  "cells": [
    {
      "cell_type": "markdown",
      "metadata": {
        "id": "BcTWu92bK_eC"
      },
      "source": [
        "# **PRACTICA 1 BIOSEÑALES**\n",
        "### **ANDRES BANQUEZ CABARCAS**\n",
        "\n"
      ]
    },
    {
      "cell_type": "markdown",
      "metadata": {
        "id": "u_eeHulzP9_o"
      },
      "source": [
        "Inicialmente importamos las librerias que necesitaremos:\n",
        "\n",
        "*   Numpy:\n",
        "*   Pandas\n",
        "*   Matplotlib\n",
        "\n"
      ]
    },
    {
      "cell_type": "code",
      "execution_count": 206,
      "metadata": {
        "id": "Bx0qmMbHKju1"
      },
      "outputs": [],
      "source": [
        "import numpy as np\n",
        "import pandas as pd\n",
        "import matplotlib.pyplot as plt"
      ]
    },
    {
      "cell_type": "markdown",
      "metadata": {
        "id": "b_322K24QTuI"
      },
      "source": [
        "1. **Cree el siguiente par de vectores:**"
      ]
    },
    {
      "cell_type": "code",
      "execution_count": 207,
      "metadata": {
        "id": "-BGbhqc0QZ8w"
      },
      "outputs": [],
      "source": [
        "a = np.array([67.1, 1, -0.3, 5.2, -6])\n",
        "b = np.array([1, 3, 2.2, 5.1, 1])"
      ]
    },
    {
      "cell_type": "code",
      "execution_count": 208,
      "metadata": {
        "colab": {
          "base_uri": "https://localhost:8080/"
        },
        "id": "Ots5FF4uQzQ4",
        "outputId": "8c89219b-291d-4f89-cd1c-284a72d35c93"
      },
      "outputs": [
        {
          "data": {
            "text/plain": [
              "array([67.1,  1. , -0.3,  5.2, -6. ])"
            ]
          },
          "execution_count": 208,
          "metadata": {},
          "output_type": "execute_result"
        }
      ],
      "source": [
        "a"
      ]
    },
    {
      "cell_type": "code",
      "execution_count": 209,
      "metadata": {
        "colab": {
          "base_uri": "https://localhost:8080/"
        },
        "id": "IvZLrixNQzq_",
        "outputId": "2b07f331-1b91-44df-df8e-5f9fad63bd9e"
      },
      "outputs": [
        {
          "data": {
            "text/plain": [
              "array([1. , 3. , 2.2, 5.1, 1. ])"
            ]
          },
          "execution_count": 209,
          "metadata": {},
          "output_type": "execute_result"
        }
      ],
      "source": [
        "b"
      ]
    },
    {
      "cell_type": "markdown",
      "metadata": {
        "id": "rcoXBgnjRAlx"
      },
      "source": [
        "2. **Implemente la multiplicación escalar de a.b ¿Qué se debe realizar para poder multiplicar los dos vectores?**\\\n",
        "\\\n",
        "En este caso usamos numpy.multiply() que al recibir un vector y un escalar, hará el producto escalar del vector."
      ]
    },
    {
      "cell_type": "code",
      "execution_count": 210,
      "metadata": {
        "colab": {
          "base_uri": "https://localhost:8080/"
        },
        "id": "5dOBw22ERTT3",
        "outputId": "4c6b5c50-dd9a-459a-f17e-6be496b204e5"
      },
      "outputs": [
        {
          "data": {
            "text/plain": [
              "array([ 4. , 12. ,  8.8, 20.4,  4. ])"
            ]
          },
          "execution_count": 210,
          "metadata": {},
          "output_type": "execute_result"
        }
      ],
      "source": [
        "productoEscalar = np.multiply(4, b)\n",
        "productoEscalar"
      ]
    },
    {
      "cell_type": "markdown",
      "metadata": {
        "id": "JI_XLOF9R9MY"
      },
      "source": [
        "3. **Implemente la multiplicación punto a punto.**\\\n",
        "\\\n",
        "Para el caso dado se requiere utilizar la función numpy.dot() que recibe dos valores que pueden ser escalares o vectores y los multiplica punto a punto para obtener el resultado de un producto escalar."
      ]
    },
    {
      "cell_type": "code",
      "execution_count": 211,
      "metadata": {
        "colab": {
          "base_uri": "https://localhost:8080/"
        },
        "id": "AefaORcKRwyX",
        "outputId": "08c56f84-af92-490c-f9f5-c3b11db9e0ff"
      },
      "outputs": [
        {
          "data": {
            "text/plain": [
              "89.96"
            ]
          },
          "execution_count": 211,
          "metadata": {},
          "output_type": "execute_result"
        }
      ],
      "source": [
        "productoPunto = np.dot(a, b)\n",
        "productoPunto"
      ]
    },
    {
      "cell_type": "markdown",
      "metadata": {
        "id": "X9TcEqFOTw4W"
      },
      "source": [
        "4. **Construya la siguiente matriz.**"
      ]
    },
    {
      "cell_type": "code",
      "execution_count": 212,
      "metadata": {
        "colab": {
          "base_uri": "https://localhost:8080/"
        },
        "id": "prRRAgWBT69-",
        "outputId": "bad6c1f3-52e5-47ad-8b74-a266919c2bd0"
      },
      "outputs": [
        {
          "data": {
            "text/plain": [
              "array([[ 2. , -1. , -3. ],\n",
              "       [ 4. , -1.5, -2.5],\n",
              "       [ 7.3, -0.9, -0.2]])"
            ]
          },
          "execution_count": 212,
          "metadata": {},
          "output_type": "execute_result"
        }
      ],
      "source": [
        "A = np.array([[2, -1, -3],[4, -1.5, -2.5],[7.3, -0.9, -0.2]])\n",
        "A"
      ]
    },
    {
      "cell_type": "markdown",
      "metadata": {
        "id": "YgxJ5qzoUM5X"
      },
      "source": [
        "5. **Obtenga su transpuesta AT**"
      ]
    },
    {
      "cell_type": "code",
      "execution_count": 213,
      "metadata": {
        "colab": {
          "base_uri": "https://localhost:8080/"
        },
        "id": "HkdaSslGUQPe",
        "outputId": "016a5bc3-eb77-43bb-ad97-beac91ba2cc0"
      },
      "outputs": [
        {
          "data": {
            "text/plain": [
              "array([[ 2. ,  4. ,  7.3],\n",
              "       [-1. , -1.5, -0.9],\n",
              "       [-3. , -2.5, -0.2]])"
            ]
          },
          "execution_count": 213,
          "metadata": {},
          "output_type": "execute_result"
        }
      ],
      "source": [
        "A.T"
      ]
    },
    {
      "cell_type": "markdown",
      "metadata": {
        "id": "y0VdixBtUXXm"
      },
      "source": [
        "6. **Consulte la función de los siguientes comandos de la libreria numpy: *ones, round, ceil, floor,* implemente cada funcion para ejemplificar su uso.**"
      ]
    },
    {
      "cell_type": "markdown",
      "metadata": {
        "id": "ZUPeuMcqUj2-"
      },
      "source": [
        "**Ones:** Retorna un arreglo (Array) de un tamaño definido por el usuario lleno con unos (1)."
      ]
    },
    {
      "cell_type": "code",
      "execution_count": 214,
      "metadata": {
        "colab": {
          "base_uri": "https://localhost:8080/"
        },
        "id": "4uTaJdxNUiGO",
        "outputId": "93cc8e0e-c54d-4ae2-dd50-76a61a323442"
      },
      "outputs": [
        {
          "data": {
            "text/plain": [
              "array([[1., 1., 1., 1., 1.],\n",
              "       [1., 1., 1., 1., 1.],\n",
              "       [1., 1., 1., 1., 1.],\n",
              "       [1., 1., 1., 1., 1.]])"
            ]
          },
          "execution_count": 214,
          "metadata": {},
          "output_type": "execute_result"
        }
      ],
      "source": [
        "np.ones([4,5])"
      ]
    },
    {
      "cell_type": "markdown",
      "metadata": {
        "id": "RsQh4SU6U3kO"
      },
      "source": [
        "**Round:** Redondea los datos al numero entero mas cercano teniendo en cuenta un numero de decimales definido, siempre lleva al numero par mas cercano en caso de que quede en la mitad (.5)"
      ]
    },
    {
      "cell_type": "code",
      "execution_count": 215,
      "metadata": {
        "colab": {
          "base_uri": "https://localhost:8080/"
        },
        "id": "4XS_gxANVRWW",
        "outputId": "e69762fc-c0ff-4d3c-bb5f-a66a1a034b6b"
      },
      "outputs": [
        {
          "data": {
            "text/plain": [
              "[1.0, 2.0, 2.0, -0.0, 2.0]"
            ]
          },
          "execution_count": 215,
          "metadata": {},
          "output_type": "execute_result"
        }
      ],
      "source": [
        "lista = [1.12, 1.5, 2.5, -0.268, 1.68455]\n",
        "[np.round(i) for i in lista] # Llevará 1.5 y 2.5 a 2."
      ]
    },
    {
      "cell_type": "code",
      "execution_count": 216,
      "metadata": {
        "colab": {
          "base_uri": "https://localhost:8080/"
        },
        "id": "ZdtqiBQbVdOX",
        "outputId": "0d6475dd-6a73-455a-8767-f19e399b1b78"
      },
      "outputs": [
        {
          "data": {
            "text/plain": [
              "[1.12, 1.5, 2.5, -0.27, 1.68]"
            ]
          },
          "execution_count": 216,
          "metadata": {},
          "output_type": "execute_result"
        }
      ],
      "source": [
        "[np.round(i, decimals=2) for i in lista] # Aqui se redondea a 2 cifras, por tanto algunas no cambian."
      ]
    },
    {
      "cell_type": "markdown",
      "metadata": {
        "id": "W0GGDyrOWa0-"
      },
      "source": [
        "**Ceil:** Redondea al numero entero inmediatamente mayor, llevará los numeros incluso 0.1 a 1 y -0.99 a 0."
      ]
    },
    {
      "cell_type": "code",
      "execution_count": 217,
      "metadata": {
        "colab": {
          "base_uri": "https://localhost:8080/"
        },
        "id": "ok2o2t0bVuaH",
        "outputId": "db72e614-f70e-4c62-a5b0-107d2dae4601"
      },
      "outputs": [
        {
          "data": {
            "text/plain": [
              "[-0.0, 1.0, 1.0, 2.0, 3.0, -5.0]"
            ]
          },
          "execution_count": 217,
          "metadata": {},
          "output_type": "execute_result"
        }
      ],
      "source": [
        "lista = [-0.99, 0.1, 0.01, 1.02, 2.99, -5.99]\n",
        "[np.ceil(i) for i in lista]"
      ]
    },
    {
      "cell_type": "markdown",
      "metadata": {
        "id": "H6_gdcaIXI6N"
      },
      "source": [
        "**Floor:** Redondea al numero entero inmediatamente menor, lleva el 1.99 a 1 o el -0.01 a -1."
      ]
    },
    {
      "cell_type": "code",
      "execution_count": 218,
      "metadata": {
        "colab": {
          "base_uri": "https://localhost:8080/"
        },
        "id": "nw83W2pAXggP",
        "outputId": "cc407055-2f13-429a-83c1-be17c81bbe38"
      },
      "outputs": [
        {
          "data": {
            "text/plain": [
              "[-1.0, 0.0, 0.0, 1.0, 2.0, -6.0]"
            ]
          },
          "execution_count": 218,
          "metadata": {},
          "output_type": "execute_result"
        }
      ],
      "source": [
        "[np.floor(i) for i in lista]"
      ]
    },
    {
      "cell_type": "markdown",
      "metadata": {
        "id": "mmVfMoiNXq8e"
      },
      "source": [
        "7. **Acceda al valor de la primera fila, tercera columna de la matriz A, imprimalo en consola.**"
      ]
    },
    {
      "cell_type": "code",
      "execution_count": 219,
      "metadata": {
        "colab": {
          "base_uri": "https://localhost:8080/"
        },
        "id": "R2pk16WqXyQ1",
        "outputId": "4b009e00-bd72-413c-d6a4-6c7eda5b3428"
      },
      "outputs": [
        {
          "name": "stdout",
          "output_type": "stream",
          "text": [
            "7.3\n"
          ]
        }
      ],
      "source": [
        "valor = A[2][0]\n",
        "print(valor)"
      ]
    },
    {
      "cell_type": "markdown",
      "metadata": {
        "id": "wmo1y2GHYJLF"
      },
      "source": [
        "8. **Obtenga la segunda fila de dicha matriz, imprimalo en consola.**"
      ]
    },
    {
      "cell_type": "code",
      "execution_count": 220,
      "metadata": {
        "colab": {
          "base_uri": "https://localhost:8080/"
        },
        "id": "yIgelV3FYJsl",
        "outputId": "c8283a13-97e2-4027-860f-7488f911f07b"
      },
      "outputs": [
        {
          "name": "stdout",
          "output_type": "stream",
          "text": [
            "[ 4.  -1.5 -2.5]\n"
          ]
        }
      ],
      "source": [
        "valor = A[:][1]\n",
        "print(valor)"
      ]
    },
    {
      "cell_type": "markdown",
      "metadata": {
        "id": "mN-OPW21YhyH"
      },
      "source": [
        "9. **Consulte el comando para conocer las dimensiones de una matriz, utilicelo con la matriz A e imprimalo en consola**"
      ]
    },
    {
      "cell_type": "markdown",
      "metadata": {
        "id": "4PEK2LGtY_LN"
      },
      "source": [
        "Se puede obtener de dos maneras, el numero de dimensiones es una propiedad llamada ndim de los numpy.array, por lo que usando array.ndim se puede obtener.\\\n",
        "Otra manera de obtenerlo es utilizar numpy.ndim(array) y tambien se obtendrá el mismo resultado."
      ]
    },
    {
      "cell_type": "code",
      "execution_count": 221,
      "metadata": {
        "colab": {
          "base_uri": "https://localhost:8080/"
        },
        "id": "6q1FX6C1YiQW",
        "outputId": "e552a8ba-ff16-4cc3-ec02-6241eb9c83cd"
      },
      "outputs": [
        {
          "name": "stdout",
          "output_type": "stream",
          "text": [
            "2\n",
            "2\n"
          ]
        }
      ],
      "source": [
        "print(A.ndim)\n",
        "print(np.ndim(A))"
      ]
    },
    {
      "cell_type": "markdown",
      "metadata": {
        "id": "48LSKvw6ZrJd"
      },
      "source": [
        "10. **Construya una función y[n] = sin(π * 0.18n) en el intervalo 0 <= n <= 180**"
      ]
    },
    {
      "cell_type": "code",
      "execution_count": 222,
      "metadata": {
        "collapsed": true,
        "id": "ca4dh19nYjaV"
      },
      "outputs": [],
      "source": [
        "n = np.linspace(0, np.pi, num=180)\n",
        "y = np.sin(np.pi * 0.18 * n)"
      ]
    },
    {
      "cell_type": "markdown",
      "metadata": {
        "id": "GjVgdFdGakAN"
      },
      "source": [
        "11. **Construya otra senoidal y2[n] = cos(2π * 0.03n)**"
      ]
    },
    {
      "cell_type": "code",
      "execution_count": 223,
      "metadata": {
        "id": "YJOXwbczayWG"
      },
      "outputs": [],
      "source": [
        "y2 = np.cos(2 * np.pi * 0.03 * n)"
      ]
    },
    {
      "cell_type": "markdown",
      "metadata": {
        "id": "jpkuK0PYa9n8"
      },
      "source": [
        "12. **Genere una tercera señal que sea la suma de estas dos señales, es decir s[n] = y[n] + y2[n] y una cuarta que sea el producto de estas, t[n] = y[n].y2[n]**"
      ]
    },
    {
      "cell_type": "code",
      "execution_count": 224,
      "metadata": {
        "id": "Frv7WffTbKEu"
      },
      "outputs": [],
      "source": [
        "s = y + y2\n",
        "t = y*y2"
      ]
    },
    {
      "cell_type": "markdown",
      "metadata": {},
      "source": [
        "13. **Graficar en la misma figura las señales y[n] y y2[n], utilice leyendas y colores diferentes para cada señal. Asigne título a cada eje.**"
      ]
    },
    {
      "cell_type": "code",
      "execution_count": 225,
      "metadata": {},
      "outputs": [
        {
          "data": {
            "image/png": "[encoded data removed]",
            "text/plain": [
              "<Figure size 640x480 with 1 Axes>"
            ]
          },
          "metadata": {},
          "output_type": "display_data"
        }
      ],
      "source": [
        "plt.plot(n, y, label = \"y\", color = \"blue\")\n",
        "plt.plot(n, y2, label = \"y2\", color = \"red\")\n",
        "plt.legend()\n",
        "plt.title(\"Grafica punto 13\")\n",
        "plt.xlabel(\"n\")\n",
        "plt.ylabel(\"Señal\")\n",
        "plt.grid()\n",
        "plt.show()"
      ]
    },
    {
      "cell_type": "markdown",
      "metadata": {},
      "source": [
        "13. **Graficar en la misma figura las señales s[n] y t[n], utilice leyendas y colores diferentes para cada señal. Asigne título a cada eje.**"
      ]
    },
    {
      "cell_type": "code",
      "execution_count": 226,
      "metadata": {},
      "outputs": [
        {
          "data": {
            "image/png": "[encoded data removed]",
            "text/plain": [
              "<Figure size 640x480 with 1 Axes>"
            ]
          },
          "metadata": {},
          "output_type": "display_data"
        }
      ],
      "source": [
        "plt.plot(n, s, label = \"s\", color = \"black\")\n",
        "plt.plot(n, t, label = \"t\", color = \"yellow\")\n",
        "plt.legend()\n",
        "plt.title(\"Grafica punto 14\")\n",
        "plt.xlabel(\"n\")\n",
        "plt.ylabel(\"Señal\")\n",
        "plt.grid()\n",
        "plt.show()"
      ]
    },
    {
      "cell_type": "markdown",
      "metadata": {},
      "source": [
        "# **RETO**\n",
        "**Escribir una función que reciba un diccionario con las notas de los alumnos de un curso y devuelva una serie con la nota mínima, máxima, media y desviación estandar.**"
      ]
    },
    {
      "cell_type": "code",
      "execution_count": 227,
      "metadata": {},
      "outputs": [],
      "source": [
        "def analizadorDeNotas(diccionario):\n",
        "    notas = np.array(list(diccionario.values()))\n",
        "    minimo = np.min(notas)\n",
        "    maximo = np.max(notas)\n",
        "    media = np.mean(notas)\n",
        "    desviacion = np.var(notas)\n",
        "    return pd.Series([minimo, maximo, media, desviacion], index = [\"Mínimo\", \"Máximo\", \"Media\", \"Desviacion\"])"
      ]
    },
    {
      "cell_type": "code",
      "execution_count": 228,
      "metadata": {},
      "outputs": [],
      "source": [
        "notas = np.random.rand(30)"
      ]
    },
    {
      "cell_type": "code",
      "execution_count": 229,
      "metadata": {},
      "outputs": [],
      "source": [
        "dic = {f'Alumno {i+1}': j*5 for i,j in enumerate(notas)}"
      ]
    },
    {
      "cell_type": "code",
      "execution_count": 230,
      "metadata": {},
      "outputs": [
        {
          "data": {
            "text/plain": [
              "Mínimo        0.136460\n",
              "Máximo        4.947402\n",
              "Media         2.579657\n",
              "Desviacion    2.374080\n",
              "dtype: float64"
            ]
          },
          "execution_count": 230,
          "metadata": {},
          "output_type": "execute_result"
        }
      ],
      "source": [
        "analizadorDeNotas(dic)"
      ]
    }
  ],
  "metadata": {
    "colab": {
      "provenance": []
    },
    "kernelspec": {
      "display_name": "Python 3",
      "name": "python3"
    },
    "language_info": {
      "codemirror_mode": {
        "name": "ipython",
        "version": 3
      },
      "file_extension": ".py",
      "mimetype": "text/x-python",
      "name": "python",
      "nbconvert_exporter": "python",
      "pygments_lexer": "ipython3",
      "version": "3.12.1"
    }
  },
  "nbformat": 4,
  "nbformat_minor": 0
}
