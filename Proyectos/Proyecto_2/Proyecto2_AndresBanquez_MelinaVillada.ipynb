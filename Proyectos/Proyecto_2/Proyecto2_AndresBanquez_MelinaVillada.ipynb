{
 "cells": [
  {
   "cell_type": "markdown",
   "metadata": {},
   "source": [
    "# **Proyecto 2 : Análisis de señales ECG**"
   ]
  },
  {
   "cell_type": "markdown",
   "metadata": {},
   "source": [
    "## Andres Banquez- Melina Villada"
   ]
  },
  {
   "cell_type": "markdown",
   "metadata": {},
   "source": [
    "1. De los artículos:\n",
    "\n",
    "https://www.nature.com/articles/s41746-023-00966-w\n",
    "\n",
    "https://www.nature.com/articles/s41598-020-59821-7\n",
    "\n",
    "https://www.sciencedirect.com/science/article/pii/S2405844024032316\n",
    "\n",
    "Para cada artículo hacer un diagrama de flujo de las metodologías usadas en los artículos (10%)\n",
    "\n",
    "Explicar en sus palabras las metodologías desarrolladas (10%)\n",
    "\n"
   ]
  },
  {
   "cell_type": "markdown",
   "metadata": {},
   "source": [
    "*Prediction of atrial fibrillation from at-home single-lead ECG signals without arrhythmias*"
   ]
  },
  {
   "cell_type": "markdown",
   "metadata": {},
   "source": [
    "![Untitled Diagram (1).png](<attachment:Untitled Diagram (1).png>)"
   ]
  },
  {
   "cell_type": "markdown",
   "metadata": {},
   "source": []
  }
 ],
 "metadata": {
  "language_info": {
   "name": "python"
  }
 },
 "nbformat": 4,
 "nbformat_minor": 2
}
